{
  "nbformat": 4,
  "nbformat_minor": 0,
  "metadata": {
    "colab": {
      "provenance": [],
      "authorship_tag": "ABX9TyNjaNh5GWE9FjWP4T1LmpmZ",
      "include_colab_link": true
    },
    "kernelspec": {
      "name": "python3",
      "display_name": "Python 3"
    },
    "language_info": {
      "name": "python"
    }
  },
  "cells": [
    {
      "cell_type": "markdown",
      "metadata": {
        "id": "view-in-github",
        "colab_type": "text"
      },
      "source": [
        "<a href=\"https://colab.research.google.com/github/SonamTenzin7/Binary-Classification/blob/main/NeuralNetworkImplemention_gcc.ipynb\" target=\"_parent\"><img src=\"https://colab.research.google.com/assets/colab-badge.svg\" alt=\"Open In Colab\"/></a>"
      ]
    },
    {
      "cell_type": "code",
      "source": [],
      "metadata": {
        "id": "pK6WT9ie_xvS"
      },
      "execution_count": null,
      "outputs": []
    },
    {
      "cell_type": "markdown",
      "source": [
        "# Neural network in C language"
      ],
      "metadata": {
        "id": "JM2P3OF-_zOp"
      }
    },
    {
      "cell_type": "code",
      "execution_count": null,
      "metadata": {
        "colab": {
          "base_uri": "https://localhost:8080/"
        },
        "id": "oqB4Jjk9ZxIj",
        "outputId": "529a3202-d68c-4bef-ce6a-5babaa67d798"
      },
      "outputs": [
        {
          "output_type": "stream",
          "name": "stdout",
          "text": [
            "Epoch 0, Total Error: 0.583553\n",
            "Epoch 1000, Total Error: 0.000718\n",
            "Epoch 2000, Total Error: 0.000122\n",
            "Epoch 3000, Total Error: 0.000046\n",
            "Epoch 4000, Total Error: 0.000024\n",
            "Epoch 5000, Total Error: 0.000014\n",
            "Epoch 6000, Total Error: 0.000009\n",
            "Epoch 7000, Total Error: 0.000007\n",
            "Epoch 8000, Total Error: 0.000005\n",
            "Epoch 9000, Total Error: 0.000004\n",
            "\n",
            "Testing:\n",
            "Input: 0.000000, Expected Output: 0.000000, Predicted Output: 0.001165\n",
            "Input: 1.000000, Expected Output: 1.000000, Predicted Output: 0.998678\n"
          ]
        }
      ],
      "source": [
        "# Step 1: Write the C code to a file\n",
        "code = \"\"\"\n",
        "#include <stdio.h>\n",
        "#include <stdlib.h>\n",
        "#include <math.h>\n",
        "#include <time.h>\n",
        "\n",
        "double sigmoid(double x) {\n",
        "    return 1.0 / (1.0 + exp(-x));\n",
        "}\n",
        "\n",
        "double sigmoid_derivative(double x) {\n",
        "    double s = sigmoid(x);\n",
        "    return s * (1.0 - s);\n",
        "}\n",
        "\n",
        "#define LEARNING_RATE 0.5\n",
        "#define EPOCHS 10000\n",
        "\n",
        "double random_weight() {\n",
        "    return ((double)rand() / (double)RAND_MAX) * 2 - 1;\n",
        "}\n",
        "\n",
        "int main() {\n",
        "    srand(time(0));\n",
        "\n",
        "    double inputs[4][1] = {{0}, {1}, {0}, {1}};\n",
        "    double expected_outputs[4] = {0, 1, 1, 0};\n",
        "\n",
        "    double weights_input_hidden[2] = {random_weight(), random_weight()};\n",
        "    double weights_hidden_output[2] = {random_weight(), random_weight()};\n",
        "\n",
        "    double bias_hidden[2] = {random_weight(), random_weight()};\n",
        "    double bias_output = random_weight();\n",
        "\n",
        "    // Training loop\n",
        "    for (int epoch = 0; epoch < EPOCHS; epoch++) {\n",
        "        double total_error = 0.0;\n",
        "\n",
        "        for (int i = 0; i < 2; i++) {\n",
        "            double input = inputs[i][0];\n",
        "            double expected_output = expected_outputs[i];\n",
        "\n",
        "            // Forward propagation\n",
        "            double hidden_layer[2];\n",
        "            hidden_layer[0] = sigmoid(input * weights_input_hidden[0] + bias_hidden[0]);\n",
        "            hidden_layer[1] = sigmoid(input * weights_input_hidden[1] + bias_hidden[1]);\n",
        "\n",
        "            double output = sigmoid(hidden_layer[0] * weights_hidden_output[0] +\n",
        "                                    hidden_layer[1] * weights_hidden_output[1] + bias_output);\n",
        "\n",
        "            // Calculate error\n",
        "            double error = expected_output - output;\n",
        "            total_error += error * error;\n",
        "\n",
        "            // Backpropagation\n",
        "            double delta_output = error * sigmoid_derivative(output);\n",
        "            double delta_hidden[2];\n",
        "            delta_hidden[0] = delta_output * weights_hidden_output[0] * sigmoid_derivative(hidden_layer[0]);\n",
        "            delta_hidden[1] = delta_output * weights_hidden_output[1] * sigmoid_derivative(hidden_layer[1]);\n",
        "\n",
        "            // Update weights and biases\n",
        "            weights_hidden_output[0] += LEARNING_RATE * delta_output * hidden_layer[0];\n",
        "            weights_hidden_output[1] += LEARNING_RATE * delta_output * hidden_layer[1];\n",
        "            bias_output += LEARNING_RATE * delta_output;\n",
        "\n",
        "            weights_input_hidden[0] += LEARNING_RATE * delta_hidden[0] * input;\n",
        "            weights_input_hidden[1] += LEARNING_RATE * delta_hidden[1] * input;\n",
        "            bias_hidden[0] += LEARNING_RATE * delta_hidden[0];\n",
        "            bias_hidden[1] += LEARNING_RATE * delta_hidden[1];\n",
        "        }\n",
        "\n",
        "        // Print error every 1000 epochs\n",
        "        if (epoch % 1000 == 0) {\n",
        "            printf(\"Epoch %d, Total Error: %f\\\\n\", epoch, total_error);\n",
        "        }\n",
        "    }\n",
        "\n",
        "    printf(\"\\\\nTesting:\\\\n\");\n",
        "    for (int i = 0; i < 2; i++) {\n",
        "        double input = inputs[i][0];\n",
        "        double expected_output = expected_outputs[i];\n",
        "\n",
        "        double hidden_layer[2];\n",
        "        hidden_layer[0] = sigmoid(input * weights_input_hidden[0] + bias_hidden[0]);\n",
        "        hidden_layer[1] = sigmoid(input * weights_input_hidden[1] + bias_hidden[1]);\n",
        "        double output = sigmoid(hidden_layer[0] * weights_hidden_output[0] +\n",
        "                                hidden_layer[1] * weights_hidden_output[1] + bias_output);\n",
        "\n",
        "        printf(\"Input: %f, Expected Output: %f, Predicted Output: %f\\\\n\", input, expected_output, output);\n",
        "    }\n",
        "\n",
        "    return 0;\n",
        "}\n",
        "\"\"\"\n",
        "\n",
        "# Step 2: Write the code to a file\n",
        "with open(\"neural_network.c\", \"w\") as file:\n",
        "    file.write(code)\n",
        "\n",
        "# Step 3: Compile the C code\n",
        "!gcc -o neural_network neural_network.c -lm\n",
        "\n",
        "# Step 4: Run the compiled program\n",
        "!./neural_network\n"
      ]
    }
  ]
}